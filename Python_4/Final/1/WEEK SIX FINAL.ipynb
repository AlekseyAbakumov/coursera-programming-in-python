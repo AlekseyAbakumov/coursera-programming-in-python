{
 "cells": [
  {
   "cell_type": "code",
   "execution_count": 1,
   "metadata": {},
   "outputs": [],
   "source": [
    "import tensorflow as tf\n",
    "import numpy as np\n",
    "import pandas as pd\n",
    "from matplotlib import pyplot as plt"
   ]
  },
  {
   "cell_type": "code",
   "execution_count": 2,
   "metadata": {},
   "outputs": [],
   "source": [
    "from tensorflow import set_random_seed\n",
    "set_random_seed(42)\n",
    "np.random.seed(42)"
   ]
  },
  {
   "cell_type": "code",
   "execution_count": 3,
   "metadata": {},
   "outputs": [],
   "source": [
    "from sklearn.model_selection import train_test_split\n",
    "from tensorflow.python import keras\n",
    "from tensorflow.python.keras.models import Sequential\n",
    "from tensorflow.python.keras.layers import Dense, Flatten, Conv2D, Dropout\n",
    "from tensorflow.python.keras.callbacks import ModelCheckpoint"
   ]
  },
  {
   "cell_type": "code",
   "execution_count": 4,
   "metadata": {},
   "outputs": [],
   "source": [
    "train = pd.read_csv('fashion-mnist_train.csv')"
   ]
  },
  {
   "cell_type": "code",
   "execution_count": 5,
   "metadata": {},
   "outputs": [],
   "source": [
    "test = pd.read_csv('fashion-mnist_test.csv')"
   ]
  },
  {
   "cell_type": "code",
   "execution_count": 6,
   "metadata": {},
   "outputs": [
    {
     "data": {
      "text/plain": [
       "((60000, 785), (10000, 785))"
      ]
     },
     "execution_count": 6,
     "metadata": {},
     "output_type": "execute_result"
    }
   ],
   "source": [
    "train.shape, test.shape"
   ]
  },
  {
   "cell_type": "code",
   "execution_count": 7,
   "metadata": {},
   "outputs": [],
   "source": [
    "x_train = train.drop('label', axis=1)/255\n",
    "y_train = train.label\n",
    "x_test = test.drop('label', axis=1)/255\n",
    "y_test = test.label"
   ]
  },
  {
   "cell_type": "code",
   "execution_count": 8,
   "metadata": {},
   "outputs": [],
   "source": [
    "from sklearn.preprocessing import OneHotEncoder\n",
    "enc = OneHotEncoder()"
   ]
  },
  {
   "cell_type": "code",
   "execution_count": 9,
   "metadata": {},
   "outputs": [
    {
     "name": "stderr",
     "output_type": "stream",
     "text": [
      "C:\\Users\\ASH-PC\\Anaconda3\\lib\\site-packages\\sklearn\\preprocessing\\_encoders.py:368: FutureWarning: The handling of integer data will change in version 0.22. Currently, the categories are determined based on the range [0, max(values)], while in the future they will be determined based on the unique values.\n",
      "If you want the future behaviour and silence this warning, you can specify \"categories='auto'\".\n",
      "In case you used a LabelEncoder before this OneHotEncoder to convert the categories to integers, then you can now use the OneHotEncoder directly.\n",
      "  warnings.warn(msg, FutureWarning)\n"
     ]
    }
   ],
   "source": [
    "y_train_labels = enc.fit_transform(np.reshape(np.array(y_train), (-1,1))).toarray()\n",
    "y_test_labels = enc.transform(np.reshape(np.array(y_test), (-1,1))).toarray()"
   ]
  },
  {
   "cell_type": "markdown",
   "metadata": {},
   "source": [
    "### Разделим нашу выборку на тестовую и валидационную"
   ]
  },
  {
   "cell_type": "code",
   "execution_count": 10,
   "metadata": {},
   "outputs": [],
   "source": [
    "x_TRAIN, x_VALID, y_TRAIN, y_VALID = train_test_split(x_train, y_train_labels, test_size = 0.2, random_state=42)"
   ]
  },
  {
   "cell_type": "markdown",
   "metadata": {},
   "source": [
    "__1. Логистическая регрессия__"
   ]
  },
  {
   "cell_type": "markdown",
   "metadata": {},
   "source": [
    "#### Реализуем логистическую регрессию с использованием стохастического градиентного спуска в качестве алгоритма оптимизации."
   ]
  },
  {
   "cell_type": "code",
   "execution_count": 11,
   "metadata": {},
   "outputs": [
    {
     "name": "stdout",
     "output_type": "stream",
     "text": [
      "WARNING:tensorflow:From C:\\Users\\ASH-PC\\Anaconda3\\lib\\site-packages\\tensorflow\\python\\ops\\resource_variable_ops.py:435: colocate_with (from tensorflow.python.framework.ops) is deprecated and will be removed in a future version.\n",
      "Instructions for updating:\n",
      "Colocations handled automatically by placer.\n",
      "Train on 48000 samples, validate on 12000 samples\n",
      "WARNING:tensorflow:From C:\\Users\\ASH-PC\\Anaconda3\\lib\\site-packages\\tensorflow\\python\\ops\\math_ops.py:3066: to_int32 (from tensorflow.python.ops.math_ops) is deprecated and will be removed in a future version.\n",
      "Instructions for updating:\n",
      "Use tf.cast instead.\n",
      "Epoch 1/20\n",
      "48000/48000 [==============================] - 2s 38us/sample - loss: 1.6856 - acc: 0.5036 - val_loss: 1.3423 - val_acc: 0.6408\n",
      "Epoch 2/20\n",
      "48000/48000 [==============================] - 1s 30us/sample - loss: 1.2006 - acc: 0.6622 - val_loss: 1.0917 - val_acc: 0.6812\n",
      "Epoch 3/20\n",
      "48000/48000 [==============================] - 2s 32us/sample - loss: 1.0281 - acc: 0.6885 - val_loss: 0.9738 - val_acc: 0.7028\n",
      "Epoch 4/20\n",
      "48000/48000 [==============================] - 2s 34us/sample - loss: 0.9360 - acc: 0.7084 - val_loss: 0.9023 - val_acc: 0.7177\n",
      "Epoch 5/20\n",
      "48000/48000 [==============================] - 1s 30us/sample - loss: 0.8766 - acc: 0.7219 - val_loss: 0.8538 - val_acc: 0.7278\n",
      "Epoch 6/20\n",
      "48000/48000 [==============================] - 2s 31us/sample - loss: 0.8339 - acc: 0.7363 - val_loss: 0.8166 - val_acc: 0.7414\n",
      "Epoch 7/20\n",
      "48000/48000 [==============================] - 1s 31us/sample - loss: 0.8013 - acc: 0.7460 - val_loss: 0.7881 - val_acc: 0.7492\n",
      "Epoch 8/20\n",
      "48000/48000 [==============================] - 2s 32us/sample - loss: 0.7750 - acc: 0.7548 - val_loss: 0.7645 - val_acc: 0.7565\n",
      "Epoch 9/20\n",
      "48000/48000 [==============================] - 1s 31us/sample - loss: 0.7533 - acc: 0.7616 - val_loss: 0.7449 - val_acc: 0.7637\n",
      "Epoch 10/20\n",
      "48000/48000 [==============================] - 2s 32us/sample - loss: 0.7349 - acc: 0.7685 - val_loss: 0.7279 - val_acc: 0.7681\n",
      "Epoch 11/20\n",
      "48000/48000 [==============================] - 2s 32us/sample - loss: 0.7190 - acc: 0.7729 - val_loss: 0.7133 - val_acc: 0.7705\n",
      "Epoch 12/20\n",
      "48000/48000 [==============================] - 2s 31us/sample - loss: 0.7051 - acc: 0.7774 - val_loss: 0.7004 - val_acc: 0.7747\n",
      "Epoch 13/20\n",
      "48000/48000 [==============================] - 2s 32us/sample - loss: 0.6929 - acc: 0.7800 - val_loss: 0.6891 - val_acc: 0.7764\n",
      "Epoch 14/20\n",
      "48000/48000 [==============================] - 2s 32us/sample - loss: 0.6818 - acc: 0.7835 - val_loss: 0.6788 - val_acc: 0.7788\n",
      "Epoch 15/20\n",
      "48000/48000 [==============================] - 2s 32us/sample - loss: 0.6719 - acc: 0.7870 - val_loss: 0.6697 - val_acc: 0.7828\n",
      "Epoch 16/20\n",
      "48000/48000 [==============================] - 2s 32us/sample - loss: 0.6630 - acc: 0.7892 - val_loss: 0.6613 - val_acc: 0.7844\n",
      "Epoch 17/20\n",
      "48000/48000 [==============================] - 2s 33us/sample - loss: 0.6547 - acc: 0.7926 - val_loss: 0.6534 - val_acc: 0.7869\n",
      "Epoch 18/20\n",
      "48000/48000 [==============================] - 2s 32us/sample - loss: 0.6472 - acc: 0.7944 - val_loss: 0.6463 - val_acc: 0.7892\n",
      "Epoch 19/20\n",
      "48000/48000 [==============================] - 2s 31us/sample - loss: 0.6402 - acc: 0.7964 - val_loss: 0.6398 - val_acc: 0.7905\n",
      "Epoch 20/20\n",
      "48000/48000 [==============================] - 1s 31us/sample - loss: 0.6338 - acc: 0.7985 - val_loss: 0.6336 - val_acc: 0.7924\n"
     ]
    }
   ],
   "source": [
    "log_checkpoint = ModelCheckpoint('log_model.h5', save_best_only=True, save_weights_only=True, mode='max', monitor='val_acc')\n",
    "model_log = Sequential()\n",
    "model_log.add(Dense(10, input_shape=(784,), activation='softmax'))\n",
    "model_log.compile(loss='categorical_crossentropy', optimizer='sgd', metrics=['accuracy'])        \n",
    "history = model_log.fit(x_TRAIN.values, y_TRAIN, batch_size=500, validation_data=(x_VALID.values, y_VALID),\n",
    "                       callbacks=[log_checkpoint], epochs=20)"
   ]
  },
  {
   "cell_type": "markdown",
   "metadata": {},
   "source": [
    "#### Визуализация зависимости accuracy от количества эпох."
   ]
  },
  {
   "cell_type": "code",
   "execution_count": 12,
   "metadata": {},
   "outputs": [
    {
     "data": {
      "text/plain": [
       "<matplotlib.legend.Legend at 0x1a6173c9b00>"
      ]
     },
     "execution_count": 12,
     "metadata": {},
     "output_type": "execute_result"
    },
    {
     "data": {
      "image/png": "[encoded data removed]",
      "text/plain": [
       "<Figure size 432x288 with 1 Axes>"
      ]
     },
     "metadata": {
      "needs_background": "light"
     },
     "output_type": "display_data"
    }
   ],
   "source": [
    "plt.plot(history.history['acc'])\n",
    "plt.plot(history.history['val_acc'])\n",
    "plt.ylabel('Accuracy')\n",
    "plt.xlabel('Epoch')\n",
    "plt.legend(['Train', 'Validation'], loc='upper left')"
   ]
  },
  {
   "cell_type": "code",
   "execution_count": 13,
   "metadata": {},
   "outputs": [
    {
     "name": "stdout",
     "output_type": "stream",
     "text": [
      "10000/10000 [==============================] - 0s 26us/sample - loss: 0.6359 - acc: 0.8000\n",
      "Логистическая регрессия   accuracy: 0.800\n"
     ]
    }
   ],
   "source": [
    "model_log.load_weights('log_model.h5')\n",
    "_, score = model_log.evaluate(x_test.values, y_test_labels)\n",
    "print(\"Логистическая регрессия   accuracy: {0:.3f}\".format(score))"
   ]
  },
  {
   "cell_type": "markdown",
   "metadata": {},
   "source": [
    "__2. Полносвязная нейронная сеть__"
   ]
  },
  {
   "cell_type": "code",
   "execution_count": 14,
   "metadata": {},
   "outputs": [
    {
     "name": "stdout",
     "output_type": "stream",
     "text": [
      "WARNING:tensorflow:From C:\\Users\\ASH-PC\\Anaconda3\\lib\\site-packages\\tensorflow\\python\\keras\\layers\\core.py:143: calling dropout (from tensorflow.python.ops.nn_ops) with keep_prob is deprecated and will be removed in a future version.\n",
      "Instructions for updating:\n",
      "Please use `rate` instead of `keep_prob`. Rate should be set to `rate = 1 - keep_prob`.\n",
      "Train on 48000 samples, validate on 12000 samples\n",
      "Epoch 1/20\n",
      "48000/48000 [==============================] - 6s 127us/sample - loss: 0.8009 - acc: 0.7134 - val_loss: 0.5381 - val_acc: 0.7980\n",
      "Epoch 2/20\n",
      "48000/48000 [==============================] - 5s 103us/sample - loss: 0.5227 - acc: 0.8074 - val_loss: 0.4618 - val_acc: 0.8253\n",
      "Epoch 3/20\n",
      "48000/48000 [==============================] - 6s 115us/sample - loss: 0.4598 - acc: 0.8301 - val_loss: 0.4165 - val_acc: 0.8461\n",
      "Epoch 4/20\n",
      "48000/48000 [==============================] - 5s 100us/sample - loss: 0.4185 - acc: 0.8459 - val_loss: 0.4060 - val_acc: 0.8489\n",
      "Epoch 5/20\n",
      "48000/48000 [==============================] - 5s 114us/sample - loss: 0.3941 - acc: 0.8541 - val_loss: 0.4014 - val_acc: 0.8451\n",
      "Epoch 6/20\n",
      "48000/48000 [==============================] - 5s 108us/sample - loss: 0.3750 - acc: 0.8620 - val_loss: 0.3675 - val_acc: 0.8681\n",
      "Epoch 7/20\n",
      "48000/48000 [==============================] - 5s 105us/sample - loss: 0.3541 - acc: 0.8717 - val_loss: 0.3437 - val_acc: 0.8725\n",
      "Epoch 8/20\n",
      "48000/48000 [==============================] - 5s 112us/sample - loss: 0.3470 - acc: 0.8722 - val_loss: 0.3355 - val_acc: 0.8762\n",
      "Epoch 9/20\n",
      "48000/48000 [==============================] - 6s 128us/sample - loss: 0.3310 - acc: 0.8777 - val_loss: 0.3562 - val_acc: 0.8689\n",
      "Epoch 10/20\n",
      "48000/48000 [==============================] - 5s 109us/sample - loss: 0.3217 - acc: 0.8811 - val_loss: 0.4055 - val_acc: 0.8572\n",
      "Epoch 11/20\n",
      "48000/48000 [==============================] - 5s 112us/sample - loss: 0.3111 - acc: 0.8856 - val_loss: 0.3519 - val_acc: 0.8647\n",
      "Epoch 12/20\n",
      "48000/48000 [==============================] - 5s 108us/sample - loss: 0.3014 - acc: 0.8877 - val_loss: 0.3130 - val_acc: 0.8845\n",
      "Epoch 13/20\n",
      "48000/48000 [==============================] - 5s 112us/sample - loss: 0.2957 - acc: 0.8892 - val_loss: 0.3354 - val_acc: 0.8706\n",
      "Epoch 14/20\n",
      "48000/48000 [==============================] - 5s 113us/sample - loss: 0.2893 - acc: 0.8923 - val_loss: 0.3099 - val_acc: 0.8851\n",
      "Epoch 15/20\n",
      "48000/48000 [==============================] - 5s 111us/sample - loss: 0.2783 - acc: 0.8955 - val_loss: 0.3100 - val_acc: 0.8876\n",
      "Epoch 16/20\n",
      "48000/48000 [==============================] - 5s 109us/sample - loss: 0.2760 - acc: 0.8963 - val_loss: 0.4020 - val_acc: 0.8596\n",
      "Epoch 17/20\n",
      "48000/48000 [==============================] - 6s 117us/sample - loss: 0.2677 - acc: 0.8993 - val_loss: 0.2956 - val_acc: 0.8938\n",
      "Epoch 18/20\n",
      "48000/48000 [==============================] - 6s 116us/sample - loss: 0.2612 - acc: 0.9016 - val_loss: 0.3537 - val_acc: 0.8711\n",
      "Epoch 19/20\n",
      "48000/48000 [==============================] - 5s 112us/sample - loss: 0.2564 - acc: 0.9048 - val_loss: 0.3111 - val_acc: 0.8802\n",
      "Epoch 20/20\n",
      "48000/48000 [==============================] - 6s 123us/sample - loss: 0.2504 - acc: 0.9066 - val_loss: 0.3009 - val_acc: 0.8856\n"
     ]
    }
   ],
   "source": [
    "nn_checkpoint = ModelCheckpoint('nn_model.h5', save_best_only=True, save_weights_only=True, mode='max', monitor='val_acc')\n",
    "model_nn = Sequential()\n",
    "model_nn.add(Dense(512, activation='relu', input_shape=(784,)))\n",
    "model_nn.add(Dropout(0.2))\n",
    "model_nn.add(Dense(512, activation='relu'))\n",
    "model_nn.add(Dropout(0.2))\n",
    "model_nn.add(Dense(10, activation='softmax'))\n",
    "\n",
    "model_nn.compile(optimizer='adadelta', loss='categorical_crossentropy', metrics=['accuracy'])\n",
    "\n",
    "history_nn = model_nn.fit(x_TRAIN.values, y_TRAIN, batch_size=500, validation_data=(x_VALID.values, y_VALID),\n",
    "                       callbacks=[nn_checkpoint], epochs=20)\n"
   ]
  },
  {
   "cell_type": "markdown",
   "metadata": {},
   "source": [
    "#### Визуализация зависимости accuracy от количества эпох."
   ]
  },
  {
   "cell_type": "code",
   "execution_count": 15,
   "metadata": {},
   "outputs": [
    {
     "data": {
      "text/plain": [
       "<matplotlib.legend.Legend at 0x1a61a1575c0>"
      ]
     },
     "execution_count": 15,
     "metadata": {},
     "output_type": "execute_result"
    },
    {
     "data": {
      "image/png": "[encoded data removed]",
      "text/plain": [
       "<Figure size 432x288 with 1 Axes>"
      ]
     },
     "metadata": {
      "needs_background": "light"
     },
     "output_type": "display_data"
    }
   ],
   "source": [
    "plt.plot(history_nn.history['acc'])\n",
    "plt.plot(history_nn.history['val_acc'])\n",
    "plt.ylabel('Accuracy')\n",
    "plt.xlabel('Epoch')\n",
    "plt.legend(['Train', 'Validation'], loc='upper left')"
   ]
  },
  {
   "cell_type": "code",
   "execution_count": 16,
   "metadata": {},
   "outputs": [
    {
     "name": "stdout",
     "output_type": "stream",
     "text": [
      "10000/10000 [==============================] - 1s 64us/sample - loss: 0.2870 - acc: 0.8951\n",
      "Полносвязная нейронная сеть   accuracy: 0.895\n"
     ]
    }
   ],
   "source": [
    "model_nn.load_weights('nn_model.h5')\n",
    "_, score = model_nn.evaluate(x_test.values, y_test_labels)\n",
    "print(\"Полносвязная нейронная сеть   accuracy: {0:.3f}\".format(score))"
   ]
  },
  {
   "cell_type": "markdown",
   "metadata": {},
   "source": [
    "#### По результатам оценок двух моделей видно что полносвязная нейронная сеть в силу своей сложности по отношению к логистической регрессии показала лучший Score"
   ]
  },
  {
   "cell_type": "markdown",
   "metadata": {},
   "source": [
    "__3. Сверточная нейронная сеть__"
   ]
  },
  {
   "cell_type": "code",
   "execution_count": 17,
   "metadata": {},
   "outputs": [],
   "source": [
    "x_TRAIN_reshaped = x_TRAIN.values.reshape(48000, 28, 28, 1)\n",
    "x_VALID_reshaped = x_VALID.values.reshape(12000, 28, 28, 1)\n",
    "x_TEST_reshaped = x_test.values.reshape(10000, 28, 28, 1)"
   ]
  },
  {
   "cell_type": "code",
   "execution_count": 18,
   "metadata": {},
   "outputs": [
    {
     "name": "stdout",
     "output_type": "stream",
     "text": [
      "Train on 48000 samples, validate on 12000 samples\n",
      "Epoch 1/10\n",
      "48000/48000 [==============================] - 24s 510us/sample - loss: 0.9929 - acc: 0.6453 - val_loss: 0.5665 - val_acc: 0.7812\n",
      "Epoch 2/10\n",
      "48000/48000 [==============================] - 23s 485us/sample - loss: 0.5443 - acc: 0.7957 - val_loss: 0.4921 - val_acc: 0.8225\n",
      "Epoch 3/10\n",
      "48000/48000 [==============================] - 23s 489us/sample - loss: 0.4722 - acc: 0.8272 - val_loss: 0.4756 - val_acc: 0.8143\n",
      "Epoch 4/10\n",
      "48000/48000 [==============================] - 24s 494us/sample - loss: 0.4277 - acc: 0.8440 - val_loss: 0.3935 - val_acc: 0.8595\n",
      "Epoch 5/10\n",
      "48000/48000 [==============================] - 24s 510us/sample - loss: 0.3951 - acc: 0.8557 - val_loss: 0.3907 - val_acc: 0.8609\n",
      "Epoch 6/10\n",
      "48000/48000 [==============================] - 24s 502us/sample - loss: 0.3685 - acc: 0.8668 - val_loss: 0.3698 - val_acc: 0.8674\n",
      "Epoch 7/10\n",
      "48000/48000 [==============================] - 25s 523us/sample - loss: 0.3496 - acc: 0.8716 - val_loss: 0.3391 - val_acc: 0.8785\n",
      "Epoch 8/10\n",
      "48000/48000 [==============================] - 24s 491us/sample - loss: 0.3336 - acc: 0.8790 - val_loss: 0.3406 - val_acc: 0.8773\n",
      "Epoch 9/10\n",
      "48000/48000 [==============================] - 24s 493us/sample - loss: 0.3201 - acc: 0.8839 - val_loss: 0.3186 - val_acc: 0.8844\n",
      "Epoch 10/10\n",
      "48000/48000 [==============================] - 24s 503us/sample - loss: 0.3048 - acc: 0.8888 - val_loss: 0.3251 - val_acc: 0.8843\n"
     ]
    }
   ],
   "source": [
    "cnn_1_checkpoint = ModelCheckpoint('cnn1_model.h5', save_best_only=True, save_weights_only=True, mode='max', monitor='val_acc')\n",
    "model_cnn_1 = tf.keras.models.Sequential()\n",
    "model_cnn_1.add(tf.keras.layers.Convolution2D(32, (3,3), input_shape=(28, 28, 1), activation='relu'))\n",
    "model_cnn_1.add(tf.keras.layers.MaxPooling2D((2,2)))\n",
    "model_cnn_1.add(tf.keras.layers.Convolution2D(64, (3,3), activation='relu'))\n",
    "model_cnn_1.add(tf.keras.layers.MaxPooling2D((2,2)))\n",
    "model_cnn_1.add(tf.keras.layers.Flatten())\n",
    "model_cnn_1.add(tf.keras.layers.Dense(64, activation='relu'))\n",
    "model_cnn_1.add(tf.keras.layers.Dense(10, activation='softmax'))\n",
    "\n",
    "model_cnn_1.compile(optimizer='adadelta', loss='categorical_crossentropy', metrics=['accuracy'])\n",
    "\n",
    "history_cnn1 = model_cnn_1.fit(x_TRAIN_reshaped, y_TRAIN, batch_size=500, validation_data=(x_VALID_reshaped, y_VALID),\n",
    "                       callbacks=[cnn_1_checkpoint], epochs=10)"
   ]
  },
  {
   "cell_type": "code",
   "execution_count": 19,
   "metadata": {},
   "outputs": [
    {
     "data": {
      "text/plain": [
       "<matplotlib.legend.Legend at 0x1a62dab1eb8>"
      ]
     },
     "execution_count": 19,
     "metadata": {},
     "output_type": "execute_result"
    },
    {
     "data": {
      "image/png": "[encoded data removed]",
      "text/plain": [
       "<Figure size 432x288 with 1 Axes>"
      ]
     },
     "metadata": {
      "needs_background": "light"
     },
     "output_type": "display_data"
    }
   ],
   "source": [
    "plt.plot(history_cnn1.history['acc'])\n",
    "plt.plot(history_cnn1.history['val_acc'])\n",
    "plt.ylabel('Accuracy')\n",
    "plt.xlabel('Epoch')\n",
    "plt.legend(['Train', 'Validation'], loc='upper left')"
   ]
  },
  {
   "cell_type": "code",
   "execution_count": 20,
   "metadata": {},
   "outputs": [
    {
     "name": "stdout",
     "output_type": "stream",
     "text": [
      "10000/10000 [==============================] - 2s 186us/sample - loss: 0.3086 - acc: 0.8918\n",
      "Сверточная нейронная сеть-1   accuracy: 0.892\n"
     ]
    }
   ],
   "source": [
    "model_cnn_1.load_weights('cnn1_model.h5')\n",
    "_, score = model_cnn_1.evaluate(x_TEST_reshaped, y_test_labels)\n",
    "print(\"Сверточная нейронная сеть-1   accuracy: {0:.3f}\".format(score))"
   ]
  },
  {
   "cell_type": "markdown",
   "metadata": {},
   "source": [
    "#### Тут уже сверточная нейронная сеть проявила себя лучше с помощью 10-ти эпох!"
   ]
  },
  {
   "cell_type": "code",
   "execution_count": 21,
   "metadata": {},
   "outputs": [
    {
     "name": "stdout",
     "output_type": "stream",
     "text": [
      "Train on 48000 samples, validate on 12000 samples\n",
      "Epoch 1/10\n",
      "48000/48000 [==============================] - 48s 1ms/sample - loss: 1.1409 - acc: 0.5814 - val_loss: 0.6926 - val_acc: 0.7442\n",
      "Epoch 2/10\n",
      "48000/48000 [==============================] - 47s 976us/sample - loss: 0.5814 - acc: 0.7779 - val_loss: 0.4819 - val_acc: 0.8243\n",
      "Epoch 3/10\n",
      "48000/48000 [==============================] - 46s 960us/sample - loss: 0.4837 - acc: 0.8209 - val_loss: 0.5342 - val_acc: 0.7883\n",
      "Epoch 4/10\n",
      "48000/48000 [==============================] - 48s 994us/sample - loss: 0.4110 - acc: 0.8477 - val_loss: 0.4191 - val_acc: 0.8423\n",
      "Epoch 5/10\n",
      "48000/48000 [==============================] - 47s 984us/sample - loss: 0.3653 - acc: 0.8649 - val_loss: 0.3428 - val_acc: 0.8759\n",
      "Epoch 6/10\n",
      "48000/48000 [==============================] - 48s 995us/sample - loss: 0.3318 - acc: 0.8769 - val_loss: 0.3220 - val_acc: 0.8804\n",
      "Epoch 7/10\n",
      "48000/48000 [==============================] - 47s 984us/sample - loss: 0.3048 - acc: 0.8862 - val_loss: 0.3032 - val_acc: 0.8915\n",
      "Epoch 8/10\n",
      "48000/48000 [==============================] - 49s 1ms/sample - loss: 0.2827 - acc: 0.8936 - val_loss: 0.2961 - val_acc: 0.8916\n",
      "Epoch 9/10\n",
      "48000/48000 [==============================] - 48s 1ms/sample - loss: 0.2648 - acc: 0.9019 - val_loss: 0.2872 - val_acc: 0.8932\n",
      "Epoch 10/10\n",
      "48000/48000 [==============================] - 48s 997us/sample - loss: 0.2475 - acc: 0.9082 - val_loss: 0.2806 - val_acc: 0.8970\n"
     ]
    }
   ],
   "source": [
    "cnn_2_checkpoint = ModelCheckpoint('cnn2_model.h5', save_best_only=True, save_weights_only=True, mode='max', monitor='val_acc')\n",
    "model_cnn_2 = tf.keras.models.Sequential()\n",
    "model_cnn_2.add(tf.keras.layers.Convolution2D(32, (3,3), input_shape=(28, 28, 1), activation='relu'))\n",
    "model_cnn_2.add(tf.keras.layers.Convolution2D(32, (3,3), activation='relu'))\n",
    "model_cnn_2.add(tf.keras.layers.MaxPooling2D((2,2)))\n",
    "model_cnn_2.add(tf.keras.layers.Convolution2D(64, (3,3), activation='relu'))\n",
    "model_cnn_2.add(tf.keras.layers.Convolution2D(64, (3,3), activation='relu'))\n",
    "model_cnn_2.add(tf.keras.layers.MaxPooling2D((2,2)))\n",
    "model_cnn_2.add(tf.keras.layers.Flatten())\n",
    "model_cnn_2.add(tf.keras.layers.Dense(128, activation='relu'))\n",
    "model_cnn_2.add(tf.keras.layers.Dense(64, activation='relu'))\n",
    "model_cnn_2.add(tf.keras.layers.Dense(10, activation='softmax'))\n",
    "\n",
    "model_cnn_2.compile(optimizer='adadelta',loss='categorical_crossentropy', metrics=['accuracy'])\n",
    "    \n",
    "history_cnn2 = model_cnn_2.fit(x_TRAIN_reshaped, y_TRAIN, batch_size=500, validation_data=(x_VALID_reshaped, y_VALID),\n",
    "                       callbacks=[cnn_2_checkpoint], epochs=10)"
   ]
  },
  {
   "cell_type": "code",
   "execution_count": 22,
   "metadata": {},
   "outputs": [
    {
     "data": {
      "text/plain": [
       "<matplotlib.legend.Legend at 0x1a68c4b1fd0>"
      ]
     },
     "execution_count": 22,
     "metadata": {},
     "output_type": "execute_result"
    },
    {
     "data": {
      "image/png": "[encoded data removed]",
      "text/plain": [
       "<Figure size 432x288 with 1 Axes>"
      ]
     },
     "metadata": {
      "needs_background": "light"
     },
     "output_type": "display_data"
    }
   ],
   "source": [
    "plt.plot(history_cnn2.history['acc'])\n",
    "plt.plot(history_cnn2.history['val_acc'])\n",
    "plt.ylabel('Accuracy')\n",
    "plt.xlabel('Epoch')\n",
    "plt.legend(['Train', 'Test'], loc='upper left')"
   ]
  },
  {
   "cell_type": "code",
   "execution_count": 23,
   "metadata": {},
   "outputs": [
    {
     "name": "stdout",
     "output_type": "stream",
     "text": [
      "10000/10000 [==============================] - 5s 476us/sample - loss: 0.2714 - acc: 0.8972s - loss: \n",
      "Сверточная нейронная сеть-2   accuracy: 0.897\n"
     ]
    }
   ],
   "source": [
    "model_cnn_2.load_weights('cnn2_model.h5')\n",
    "_, score = model_cnn_2.evaluate(x_TEST_reshaped, y_test_labels)\n",
    "print(\"Сверточная нейронная сеть-2   accuracy: {0:.3f}\".format(score))"
   ]
  },
  {
   "cell_type": "markdown",
   "metadata": {},
   "source": [
    "#### После добавления допольнительных слоев в сверточную нейросеть результат незначительно улучшился"
   ]
  },
  {
   "cell_type": "markdown",
   "metadata": {},
   "source": [
    "### Добавление Batch Normalization слоев"
   ]
  },
  {
   "cell_type": "code",
   "execution_count": 24,
   "metadata": {},
   "outputs": [
    {
     "name": "stdout",
     "output_type": "stream",
     "text": [
      "Train on 48000 samples, validate on 12000 samples\n",
      "Epoch 1/10\n",
      "48000/48000 [==============================] - 104s 2ms/sample - loss: 0.5733 - acc: 0.8024 - val_loss: 2.6973 - val_acc: 0.1447\n",
      "Epoch 2/10\n",
      "48000/48000 [==============================] - 103s 2ms/sample - loss: 0.2960 - acc: 0.8934 - val_loss: 3.4260 - val_acc: 0.2144\n",
      "Epoch 3/10\n",
      "48000/48000 [==============================] - 103s 2ms/sample - loss: 0.2404 - acc: 0.9132 - val_loss: 3.7993 - val_acc: 0.2742\n",
      "Epoch 4/10\n",
      "48000/48000 [==============================] - 100s 2ms/sample - loss: 0.2011 - acc: 0.9276 - val_loss: 2.9085 - val_acc: 0.4022\n",
      "Epoch 5/10\n",
      "48000/48000 [==============================] - 101s 2ms/sample - loss: 0.1775 - acc: 0.9350 - val_loss: 1.3133 - val_acc: 0.6375\n",
      "Epoch 6/10\n",
      "48000/48000 [==============================] - 100s 2ms/sample - loss: 0.1430 - acc: 0.9497 - val_loss: 0.7179 - val_acc: 0.8077\n",
      "Epoch 7/10\n",
      "48000/48000 [==============================] - 101s 2ms/sample - loss: 0.1221 - acc: 0.9567 - val_loss: 0.3300 - val_acc: 0.8906\n",
      "Epoch 8/10\n",
      "48000/48000 [==============================] - 101s 2ms/sample - loss: 0.1077 - acc: 0.9621 - val_loss: 0.3292 - val_acc: 0.8944\n",
      "Epoch 9/10\n",
      "48000/48000 [==============================] - 104s 2ms/sample - loss: 0.0870 - acc: 0.9689 - val_loss: 0.3725 - val_acc: 0.8894\n",
      "Epoch 10/10\n",
      "48000/48000 [==============================] - 105s 2ms/sample - loss: 0.0768 - acc: 0.9726 - val_loss: 0.2963 - val_acc: 0.9088\n"
     ]
    }
   ],
   "source": [
    "cnn_3_checkpoint = ModelCheckpoint('cnn3_model.h5', save_best_only=True, save_weights_only=True, mode='max', monitor='val_acc')\n",
    "model_cnn_3b = tf.keras.models.Sequential()\n",
    "model_cnn_3b.add(tf.keras.layers.Convolution2D(32, (3,3), input_shape=(28, 28, 1), activation='relu'))\n",
    "model_cnn_3b.add(tf.keras.layers.BatchNormalization())\n",
    "model_cnn_3b.add(tf.keras.layers.Convolution2D(32, (3,3), activation='relu'))\n",
    "model_cnn_3b.add(tf.keras.layers.BatchNormalization())\n",
    "model_cnn_3b.add(tf.keras.layers.MaxPooling2D((2,2)))\n",
    "model_cnn_3b.add(tf.keras.layers.Convolution2D(64, (3,3), activation='relu'))\n",
    "model_cnn_3b.add(tf.keras.layers.BatchNormalization())\n",
    "model_cnn_3b.add(tf.keras.layers.Convolution2D(64, (3,3), activation='relu'))\n",
    "model_cnn_3b.add(tf.keras.layers.BatchNormalization())\n",
    "model_cnn_3b.add(tf.keras.layers.MaxPooling2D((2,2)))\n",
    "model_cnn_3b.add(tf.keras.layers.Flatten())\n",
    "model_cnn_3b.add(tf.keras.layers.Dense(128, activation='relu'))\n",
    "model_cnn_3b.add(tf.keras.layers.Dense(32, activation='relu'))\n",
    "model_cnn_3b.add(tf.keras.layers.Dense(10, activation='softmax'))\n",
    "\n",
    "model_cnn_3b.compile(optimizer='adam',loss='categorical_crossentropy', metrics=['accuracy'])\n",
    "    \n",
    "history_cnn3 = model_cnn_3b.fit(x_TRAIN_reshaped, y_TRAIN, batch_size=500, validation_data=(x_VALID_reshaped, y_VALID),\n",
    "                       callbacks=[cnn_3_checkpoint], epochs=10)"
   ]
  },
  {
   "cell_type": "code",
   "execution_count": 25,
   "metadata": {},
   "outputs": [
    {
     "data": {
      "text/plain": [
       "<matplotlib.legend.Legend at 0x1a69e210f60>"
      ]
     },
     "execution_count": 25,
     "metadata": {},
     "output_type": "execute_result"
    },
    {
     "data": {
      "image/png": "[encoded data removed]",
      "text/plain": [
       "<Figure size 432x288 with 1 Axes>"
      ]
     },
     "metadata": {
      "needs_background": "light"
     },
     "output_type": "display_data"
    }
   ],
   "source": [
    "plt.plot(history_cnn3.history['acc'])\n",
    "plt.plot(history_cnn3.history['val_acc'])\n",
    "plt.ylabel('Accuracy')\n",
    "plt.xlabel('Epoch')\n",
    "plt.legend(['Train', 'Test'], loc='upper left')"
   ]
  },
  {
   "cell_type": "code",
   "execution_count": 26,
   "metadata": {},
   "outputs": [
    {
     "name": "stdout",
     "output_type": "stream",
     "text": [
      "10000/10000 [==============================] - 9s 950us/sample - loss: 0.2889 - acc: 0.9121s - loss: 0.2\n",
      "Сверточная нейронная сеть-3   accuracy: 0.912\n"
     ]
    }
   ],
   "source": [
    "model_cnn_3b.load_weights('cnn3_model.h5')\n",
    "_, score = model_cnn_3b.evaluate(x_TEST_reshaped, y_test_labels)\n",
    "print(\"Сверточная нейронная сеть-3   accuracy: {0:.3f}\".format(score))"
   ]
  },
  {
   "cell_type": "markdown",
   "metadata": {},
   "source": [
    "### После добавления batch normalization слоёв наш результат улучшился. "
   ]
  },
  {
   "cell_type": "markdown",
   "metadata": {},
   "source": [
    "### Тем не менее полученный по итогам обучения на 10-ти эпохах результат нельзя считать оптимальным."
   ]
  },
  {
   "cell_type": "markdown",
   "metadata": {},
   "source": [
    "### Если увеличить количество эпох, результат должен стать еще лучше."
   ]
  },
  {
   "cell_type": "code",
   "execution_count": null,
   "metadata": {},
   "outputs": [],
   "source": []
  }
 ],
 "metadata": {
  "kernelspec": {
   "display_name": "Python 3",
   "language": "python",
   "name": "python3"
  },
  "language_info": {
   "codemirror_mode": {
    "name": "ipython",
    "version": 3
   },
   "file_extension": ".py",
   "mimetype": "text/x-python",
   "name": "python",
   "nbconvert_exporter": "python",
   "pygments_lexer": "ipython3",
   "version": "3.7.3"
  }
 },
 "nbformat": 4,
 "nbformat_minor": 2
}
